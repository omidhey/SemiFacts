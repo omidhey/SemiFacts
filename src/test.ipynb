{
 "cells": [
  {
   "cell_type": "code",
   "execution_count": 59,
   "id": "a05085e3",
   "metadata": {},
   "outputs": [],
   "source": [
    "import pandas as pd\n",
    "import numpy as np\n",
    "from openpyxl import load_workbook\n",
    "from itertools import islice"
   ]
  },
  {
   "cell_type": "code",
   "execution_count": 60,
   "id": "aa5e2003",
   "metadata": {},
   "outputs": [],
   "source": [
    "wb = load_workbook('data/bp-stats-review-2019-all-data.xlsx')\n",
    "sheet_names = wb.sheetnames\n",
    "# print(sheet_names)"
   ]
  },
  {
   "cell_type": "code",
   "execution_count": 61,
   "id": "723a8eec",
   "metadata": {},
   "outputs": [
    {
     "name": "stdout",
     "output_type": "stream",
     "text": [
      "                                                          None        None  \\\n",
      "None                                                      None        None   \n",
      "Million tonnes oil equivalent                             1965        1966   \n",
      "None                                                      None        None   \n",
      "Canada                                              115.910849  122.991657   \n",
      "Mexico                                               24.972964   26.432788   \n",
      "...                                                        ...         ...   \n",
      " ^ Less than 0.05.                                        None        None   \n",
      "w Less than 0.05%.                                        None        None   \n",
      " n/a not available.                                       None        None   \n",
      "USSR includes Georgia, Ukraine and the Baltic S...        None        None   \n",
      " # Excludes Estonia, Latvia and Lithuania prior...        None        None   \n",
      "\n",
      "                                                          None        None  \\\n",
      "None                                                      None        None   \n",
      "Million tonnes oil equivalent                             1967        1968   \n",
      "None                                                      None        None   \n",
      "Canada                                              129.026541  137.695457   \n",
      "Mexico                                               26.922222   29.291127   \n",
      "...                                                        ...         ...   \n",
      " ^ Less than 0.05.                                        None        None   \n",
      "w Less than 0.05%.                                        None        None   \n",
      " n/a not available.                                       None        None   \n",
      "USSR includes Georgia, Ukraine and the Baltic S...        None        None   \n",
      " # Excludes Estonia, Latvia and Lithuania prior...        None        None   \n",
      "\n",
      "                                                          None        None  \\\n",
      "None                                                      None        None   \n",
      "Million tonnes oil equivalent                             1969        1970   \n",
      "None                                                      None        None   \n",
      "Canada                                              145.303023  155.587992   \n",
      "Mexico                                               32.196346   34.320386   \n",
      "...                                                        ...         ...   \n",
      " ^ Less than 0.05.                                        None        None   \n",
      "w Less than 0.05%.                                        None        None   \n",
      " n/a not available.                                       None        None   \n",
      "USSR includes Georgia, Ukraine and the Baltic S...        None        None   \n",
      " # Excludes Estonia, Latvia and Lithuania prior...        None        None   \n",
      "\n",
      "                                                          None       None  \\\n",
      "None                                                      None       None   \n",
      "Million tonnes oil equivalent                             1971       1972   \n",
      "None                                                      None       None   \n",
      "Canada                                              159.794037  170.69824   \n",
      "Mexico                                               36.094722  39.916724   \n",
      "...                                                        ...        ...   \n",
      " ^ Less than 0.05.                                        None       None   \n",
      "w Less than 0.05%.                                        None       None   \n",
      " n/a not available.                                       None       None   \n",
      "USSR includes Georgia, Ukraine and the Baltic S...        None       None   \n",
      " # Excludes Estonia, Latvia and Lithuania prior...        None       None   \n",
      "\n",
      "                                                      Contents        None  \\\n",
      "None                                                      None        None   \n",
      "Million tonnes oil equivalent                             1973        1974   \n",
      "None                                                      None        None   \n",
      "Canada                                              181.241163  187.556717   \n",
      "Mexico                                               43.065295   47.492627   \n",
      "...                                                        ...         ...   \n",
      " ^ Less than 0.05.                                        None        None   \n",
      "w Less than 0.05%.                                        None        None   \n",
      " n/a not available.                                       None        None   \n",
      "USSR includes Georgia, Ukraine and the Baltic S...        None        None   \n",
      " # Excludes Estonia, Latvia and Lithuania prior...        None        None   \n",
      "\n",
      "                                                    ...        None  \\\n",
      "None                                                ...        None   \n",
      "Million tonnes oil equivalent                       ...        2014   \n",
      "None                                                ...        None   \n",
      "Canada                                              ...  341.813863   \n",
      "Mexico                                              ...  184.141764   \n",
      "...                                                 ...         ...   \n",
      " ^ Less than 0.05.                                  ...        None   \n",
      "w Less than 0.05%.                                  ...        None   \n",
      " n/a not available.                                 ...        None   \n",
      "USSR includes Georgia, Ukraine and the Baltic S...  ...        None   \n",
      " # Excludes Estonia, Latvia and Lithuania prior...  ...        None   \n",
      "\n",
      "                                                          None        None  \\\n",
      "None                                                      None        None   \n",
      "Million tonnes oil equivalent                             2015        2016   \n",
      "None                                                      None        None   \n",
      "Canada                                              339.043046  338.223484   \n",
      "Mexico                                              183.970404  186.358373   \n",
      "...                                                        ...         ...   \n",
      " ^ Less than 0.05.                                        None        None   \n",
      "w Less than 0.05%.                                        None        None   \n",
      " n/a not available.                                       None        None   \n",
      "USSR includes Georgia, Ukraine and the Baltic S...        None        None   \n",
      " # Excludes Estonia, Latvia and Lithuania prior...        None        None   \n",
      "\n",
      "                                                          None        None  \\\n",
      "None                                                      None        None   \n",
      "Million tonnes oil equivalent                             2017        2018   \n",
      "None                                                      None        None   \n",
      "Canada                                              343.696739  344.424157   \n",
      "Mexico                                              189.300608   186.91382   \n",
      "...                                                        ...         ...   \n",
      " ^ Less than 0.05.                                        None        None   \n",
      "w Less than 0.05%.                                        None        None   \n",
      " n/a not available.                                       None        None   \n",
      "USSR includes Georgia, Ukraine and the Baltic S...        None        None   \n",
      " # Excludes Estonia, Latvia and Lithuania prior...        None        None   \n",
      "\n",
      "                                                                     None  \\\n",
      "None                                                Growth rate per annum   \n",
      "Million tonnes oil equivalent                                        2018   \n",
      "None                                                                 None   \n",
      "Canada                                                           0.002116   \n",
      "Mexico                                                          -0.012608   \n",
      "...                                                                   ...   \n",
      " ^ Less than 0.05.                                                   None   \n",
      "w Less than 0.05%.                                                   None   \n",
      " n/a not available.                                                  None   \n",
      "USSR includes Georgia, Ukraine and the Baltic S...                   None   \n",
      " # Excludes Estonia, Latvia and Lithuania prior...                   None   \n",
      "\n",
      "                                                        None      None  None  \\\n",
      "None                                                    None     Share  None   \n",
      "Million tonnes oil equivalent                        2007-17      2018  None   \n",
      "None                                                    None      None  None   \n",
      "Canada                                              0.006524  0.024841  None   \n",
      "Mexico                                              0.012453  0.013481  None   \n",
      "...                                                      ...       ...   ...   \n",
      " ^ Less than 0.05.                                      None      None  None   \n",
      "w Less than 0.05%.                                      None      None  None   \n",
      " n/a not available.                                     None      None  None   \n",
      "USSR includes Georgia, Ukraine and the Baltic S...      None      None  None   \n",
      " # Excludes Estonia, Latvia and Lithuania prior...      None      None  None   \n",
      "\n",
      "                                                   Contents  \n",
      "None                                                   None  \n",
      "Million tonnes oil equivalent                          None  \n",
      "None                                                   None  \n",
      "Canada                                                 None  \n",
      "Mexico                                                 None  \n",
      "...                                                     ...  \n",
      " ^ Less than 0.05.                                     None  \n",
      "w Less than 0.05%.                                     None  \n",
      " n/a not available.                                    None  \n",
      "USSR includes Georgia, Ukraine and the Baltic S...     None  \n",
      " # Excludes Estonia, Latvia and Lithuania prior...     None  \n",
      "\n",
      "[120 rows x 59 columns]\n"
     ]
    }
   ],
   "source": [
    "sheet1 = wb[sheet_names[1]]\n",
    "# df = pd.DataFrame(sheet1.values)\n",
    "data = sheet1.values\n",
    "cols = next(data)[1:]\n",
    "data = list(data)\n",
    "idx = [r[0] for r in data]\n",
    "data = (islice(r, 1, None) for r in data)\n",
    "df = pd.DataFrame(data, index=idx, columns=cols)\n",
    "print(df)"
   ]
  },
  {
   "cell_type": "code",
   "execution_count": 45,
   "id": "bb8fdc82",
   "metadata": {},
   "outputs": [],
   "source": [
    "sheet_range = wb['Contents']\n",
    "contents = []\n",
    "for i in range(1,98):\n",
    "    if sheet_range[f'A{i}'].value is not None:\n",
    "        contents.append((i, sheet_range[f'A{i}'].value))\n"
   ]
  },
  {
   "cell_type": "code",
   "execution_count": 46,
   "id": "0868c7de",
   "metadata": {},
   "outputs": [
    {
     "data": {
      "text/plain": [
       "'Contents'"
      ]
     },
     "execution_count": 46,
     "metadata": {},
     "output_type": "execute_result"
    }
   ],
   "source": [
    "sheet_names[0]"
   ]
  },
  {
   "cell_type": "code",
   "execution_count": null,
   "id": "c090afbe",
   "metadata": {},
   "outputs": [],
   "source": []
  }
 ],
 "metadata": {
  "kernelspec": {
   "display_name": "Python 3.8.13 ('semifact')",
   "language": "python",
   "name": "python3"
  },
  "language_info": {
   "codemirror_mode": {
    "name": "ipython",
    "version": 3
   },
   "file_extension": ".py",
   "mimetype": "text/x-python",
   "name": "python",
   "nbconvert_exporter": "python",
   "pygments_lexer": "ipython3",
   "version": "3.8.13"
  },
  "vscode": {
   "interpreter": {
    "hash": "dd003c203c5d61a38538ac0398d48e224fae3af367546652721b547d44cd0bbd"
   }
  }
 },
 "nbformat": 4,
 "nbformat_minor": 5
}
